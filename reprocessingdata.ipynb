{
  "nbformat": 4,
  "nbformat_minor": 0,
  "metadata": {
    "colab": {
      "provenance": []
    },
    "kernelspec": {
      "name": "python3",
      "display_name": "Python 3"
    },
    "language_info": {
      "name": "python"
    }
  },
  "cells": [
    {
      "cell_type": "code",
      "execution_count": 1,
      "metadata": {
        "id": "BQlzI1IGam9R"
      },
      "outputs": [],
      "source": [
        "import numpy as np\n",
        "import matplotlib.pyplot as plt\n",
        "import pandas as pd"
      ]
    },
    {
      "cell_type": "code",
      "source": [
        "dataset = pd.read_csv('tes.csv')\n",
        "X = dataset.iloc[:, :-1].values\n",
        "Y = dataset.iloc[:, -1].values"
      ],
      "metadata": {
        "id": "lnKcsXnSaywq"
      },
      "execution_count": 6,
      "outputs": []
    },
    {
      "cell_type": "code",
      "source": [
        "print(X)\n"
      ],
      "metadata": {
        "colab": {
          "base_uri": "https://localhost:8080/"
        },
        "id": "JAJ1r28Nban7",
        "outputId": "68480559-9e76-405a-f682-5b18674d66a6"
      },
      "execution_count": 7,
      "outputs": [
        {
          "output_type": "stream",
          "name": "stdout",
          "text": [
            "[[1 'Ade' 22.0 '750000']\n",
            " [2 'Daris' 27.0 '500000']\n",
            " [3 'Abel' 30.0 '650000']\n",
            " [4 'Ade' 30.0 '725000']\n",
            " [5 'Abel' 25.0 ' ']\n",
            " [6 'Daris' 27.0 '385000']\n",
            " [7 'Abel' nan '350000']\n",
            " [8 'Daris' 21.0 '452000']\n",
            " [9 'Ade' 20.0 '485000']\n",
            " [10 'Abel' 29.0 '795000']]\n"
          ]
        }
      ]
    },
    {
      "cell_type": "code",
      "source": [
        "print(Y)"
      ],
      "metadata": {
        "colab": {
          "base_uri": "https://localhost:8080/"
        },
        "id": "YbCGhDCmbeze",
        "outputId": "cb37bc46-dd37-41dd-a423-a8ed7a217cd3"
      },
      "execution_count": 8,
      "outputs": [
        {
          "output_type": "stream",
          "name": "stdout",
          "text": [
            "['No' 'Yes' 'No' 'No' 'Yes' 'Yes' 'No' 'Yes' 'No' 'Yes']\n"
          ]
        }
      ]
    },
    {
      "cell_type": "code",
      "source": [
        "from sklearn.impute import SimpleImputer\n",
        "imputer = SimpleImputer(missing_values=np.nan, strategy='most_frequent')\n",
        "imputer.fit(X[:, 1:3])\n",
        "X[:, 1:3] = imputer.transform(X[:,1:3])"
      ],
      "metadata": {
        "id": "z9hG9oyWbiID"
      },
      "execution_count": 9,
      "outputs": []
    },
    {
      "cell_type": "code",
      "source": [
        "print(X)"
      ],
      "metadata": {
        "colab": {
          "base_uri": "https://localhost:8080/"
        },
        "id": "aDU40sDMbmuw",
        "outputId": "ecf5c0cf-3218-4632-970b-b31a4f6bac33"
      },
      "execution_count": 10,
      "outputs": [
        {
          "output_type": "stream",
          "name": "stdout",
          "text": [
            "[[1 'Ade' 22.0 '750000']\n",
            " [2 'Daris' 27.0 '500000']\n",
            " [3 'Abel' 30.0 '650000']\n",
            " [4 'Ade' 30.0 '725000']\n",
            " [5 'Abel' 25.0 ' ']\n",
            " [6 'Daris' 27.0 '385000']\n",
            " [7 'Abel' 27.0 '350000']\n",
            " [8 'Daris' 21.0 '452000']\n",
            " [9 'Ade' 20.0 '485000']\n",
            " [10 'Abel' 29.0 '795000']]\n"
          ]
        }
      ]
    },
    {
      "cell_type": "code",
      "source": [
        "from sklearn.compose import ColumnTransformer\n",
        "from sklearn.preprocessing import OneHotEncoder\n",
        "ct = ColumnTransformer(transformers=[('encoder', OneHotEncoder(), [0])], remainder='passthrough')\n",
        "X = np.array(ct.fit_transform(X))"
      ],
      "metadata": {
        "id": "R5W2Yo0ybpYy"
      },
      "execution_count": 11,
      "outputs": []
    },
    {
      "cell_type": "code",
      "source": [
        "print(X)"
      ],
      "metadata": {
        "colab": {
          "base_uri": "https://localhost:8080/"
        },
        "id": "LXT98GpPbs96",
        "outputId": "7d891597-4667-4434-db2b-54332d226fe7"
      },
      "execution_count": 12,
      "outputs": [
        {
          "output_type": "stream",
          "name": "stdout",
          "text": [
            "[[1.0 0.0 0.0 0.0 0.0 0.0 0.0 0.0 0.0 0.0 'Ade' 22.0 '750000']\n",
            " [0.0 1.0 0.0 0.0 0.0 0.0 0.0 0.0 0.0 0.0 'Daris' 27.0 '500000']\n",
            " [0.0 0.0 1.0 0.0 0.0 0.0 0.0 0.0 0.0 0.0 'Abel' 30.0 '650000']\n",
            " [0.0 0.0 0.0 1.0 0.0 0.0 0.0 0.0 0.0 0.0 'Ade' 30.0 '725000']\n",
            " [0.0 0.0 0.0 0.0 1.0 0.0 0.0 0.0 0.0 0.0 'Abel' 25.0 ' ']\n",
            " [0.0 0.0 0.0 0.0 0.0 1.0 0.0 0.0 0.0 0.0 'Daris' 27.0 '385000']\n",
            " [0.0 0.0 0.0 0.0 0.0 0.0 1.0 0.0 0.0 0.0 'Abel' 27.0 '350000']\n",
            " [0.0 0.0 0.0 0.0 0.0 0.0 0.0 1.0 0.0 0.0 'Daris' 21.0 '452000']\n",
            " [0.0 0.0 0.0 0.0 0.0 0.0 0.0 0.0 1.0 0.0 'Ade' 20.0 '485000']\n",
            " [0.0 0.0 0.0 0.0 0.0 0.0 0.0 0.0 0.0 1.0 'Abel' 29.0 '795000']]\n"
          ]
        }
      ]
    },
    {
      "cell_type": "code",
      "source": [
        "from sklearn.preprocessing import LabelEncoder\n",
        "le = LabelEncoder()\n",
        "Y = le.fit_transform(Y)"
      ],
      "metadata": {
        "id": "kt37SGrjbveY"
      },
      "execution_count": 13,
      "outputs": []
    },
    {
      "cell_type": "code",
      "source": [
        "print(Y)"
      ],
      "metadata": {
        "colab": {
          "base_uri": "https://localhost:8080/"
        },
        "id": "X9a6wlK6byIK",
        "outputId": "851b04c8-7738-4881-de3a-8509a55d7648"
      },
      "execution_count": 14,
      "outputs": [
        {
          "output_type": "stream",
          "name": "stdout",
          "text": [
            "[0 1 0 0 1 1 0 1 0 1]\n"
          ]
        }
      ]
    },
    {
      "cell_type": "code",
      "source": [
        "from sklearn.model_selection import train_test_split\n",
        "X_train, X_test, Y_train, Y_test = train_test_split(X, Y, test_size= 0.2, random_state= 1)"
      ],
      "metadata": {
        "id": "5pGL1FuKb2ZK"
      },
      "execution_count": 15,
      "outputs": []
    },
    {
      "cell_type": "code",
      "source": [
        "print(X_train)"
      ],
      "metadata": {
        "colab": {
          "base_uri": "https://localhost:8080/"
        },
        "id": "p7I0SxXlb4sJ",
        "outputId": "4dde69d2-68e1-4456-e489-e165dcb2d794"
      },
      "execution_count": 16,
      "outputs": [
        {
          "output_type": "stream",
          "name": "stdout",
          "text": [
            "[[0.0 0.0 0.0 0.0 0.0 0.0 1.0 0.0 0.0 0.0 'Abel' 27.0 '350000']\n",
            " [0.0 0.0 0.0 0.0 1.0 0.0 0.0 0.0 0.0 0.0 'Abel' 25.0 ' ']\n",
            " [1.0 0.0 0.0 0.0 0.0 0.0 0.0 0.0 0.0 0.0 'Ade' 22.0 '750000']\n",
            " [0.0 0.0 0.0 1.0 0.0 0.0 0.0 0.0 0.0 0.0 'Ade' 30.0 '725000']\n",
            " [0.0 1.0 0.0 0.0 0.0 0.0 0.0 0.0 0.0 0.0 'Daris' 27.0 '500000']\n",
            " [0.0 0.0 0.0 0.0 0.0 0.0 0.0 1.0 0.0 0.0 'Daris' 21.0 '452000']\n",
            " [0.0 0.0 0.0 0.0 0.0 0.0 0.0 0.0 1.0 0.0 'Ade' 20.0 '485000']\n",
            " [0.0 0.0 0.0 0.0 0.0 1.0 0.0 0.0 0.0 0.0 'Daris' 27.0 '385000']]\n"
          ]
        }
      ]
    },
    {
      "cell_type": "code",
      "source": [
        "print(X_test)"
      ],
      "metadata": {
        "colab": {
          "base_uri": "https://localhost:8080/"
        },
        "id": "fuZpfEXHb71p",
        "outputId": "79c92392-32c8-4806-a361-64f6c072e160"
      },
      "execution_count": 17,
      "outputs": [
        {
          "output_type": "stream",
          "name": "stdout",
          "text": [
            "[[0.0 0.0 1.0 0.0 0.0 0.0 0.0 0.0 0.0 0.0 'Abel' 30.0 '650000']\n",
            " [0.0 0.0 0.0 0.0 0.0 0.0 0.0 0.0 0.0 1.0 'Abel' 29.0 '795000']]\n"
          ]
        }
      ]
    },
    {
      "cell_type": "code",
      "source": [
        "print(Y_train)"
      ],
      "metadata": {
        "colab": {
          "base_uri": "https://localhost:8080/"
        },
        "id": "KYR6iqOeb-U4",
        "outputId": "de3c8eef-b8d3-44f5-bfc2-0a2efd0ac378"
      },
      "execution_count": 18,
      "outputs": [
        {
          "output_type": "stream",
          "name": "stdout",
          "text": [
            "[0 1 0 0 1 1 0 1]\n"
          ]
        }
      ]
    },
    {
      "cell_type": "code",
      "source": [
        "print(Y_test)"
      ],
      "metadata": {
        "colab": {
          "base_uri": "https://localhost:8080/"
        },
        "id": "B78Kb4UJcAgh",
        "outputId": "350d3299-aa23-413c-c2d1-0607c00eded9"
      },
      "execution_count": 19,
      "outputs": [
        {
          "output_type": "stream",
          "name": "stdout",
          "text": [
            "[0 1]\n"
          ]
        }
      ]
    },
    {
      "cell_type": "code",
      "source": [
        "from sklearn.preprocessing import StandardScaler\n",
        "sc = StandardScaler()\n",
        "X_train[:, 1:3] = sc.fit_transform(X_train[:, 1:3])\n",
        "X_test[:, 1:3] = sc.transform(X_test[:, 1:3])"
      ],
      "metadata": {
        "id": "WyLaOM4lcDCH"
      },
      "execution_count": 20,
      "outputs": []
    },
    {
      "cell_type": "code",
      "source": [
        "print(X_train)"
      ],
      "metadata": {
        "colab": {
          "base_uri": "https://localhost:8080/"
        },
        "id": "XKARVeXMcFTz",
        "outputId": "0d69a543-d5de-40ea-9a1e-cc5d45e32cad"
      },
      "execution_count": 21,
      "outputs": [
        {
          "output_type": "stream",
          "name": "stdout",
          "text": [
            "[[0.0 -0.3779644730092272 0.0 0.0 0.0 0.0 1.0 0.0 0.0 0.0 'Abel' 27.0\n",
            "  '350000']\n",
            " [0.0 -0.3779644730092272 0.0 0.0 1.0 0.0 0.0 0.0 0.0 0.0 'Abel' 25.0 ' ']\n",
            " [1.0 -0.3779644730092272 0.0 0.0 0.0 0.0 0.0 0.0 0.0 0.0 'Ade' 22.0\n",
            "  '750000']\n",
            " [0.0 -0.3779644730092272 0.0 1.0 0.0 0.0 0.0 0.0 0.0 0.0 'Ade' 30.0\n",
            "  '725000']\n",
            " [0.0 2.6457513110645903 0.0 0.0 0.0 0.0 0.0 0.0 0.0 0.0 'Daris' 27.0\n",
            "  '500000']\n",
            " [0.0 -0.3779644730092272 0.0 0.0 0.0 0.0 0.0 1.0 0.0 0.0 'Daris' 21.0\n",
            "  '452000']\n",
            " [0.0 -0.3779644730092272 0.0 0.0 0.0 0.0 0.0 0.0 1.0 0.0 'Ade' 20.0\n",
            "  '485000']\n",
            " [0.0 -0.3779644730092272 0.0 0.0 0.0 1.0 0.0 0.0 0.0 0.0 'Daris' 27.0\n",
            "  '385000']]\n"
          ]
        }
      ]
    },
    {
      "cell_type": "code",
      "source": [
        "print(X_test)"
      ],
      "metadata": {
        "colab": {
          "base_uri": "https://localhost:8080/"
        },
        "id": "lfugNRtBcHhn",
        "outputId": "32ce2498-99c5-49d1-aaa1-a31dd56be474"
      },
      "execution_count": 22,
      "outputs": [
        {
          "output_type": "stream",
          "name": "stdout",
          "text": [
            "[[0.0 -0.3779644730092272 1.0 0.0 0.0 0.0 0.0 0.0 0.0 0.0 'Abel' 30.0\n",
            "  '650000']\n",
            " [0.0 -0.3779644730092272 0.0 0.0 0.0 0.0 0.0 0.0 0.0 1.0 'Abel' 29.0\n",
            "  '795000']]\n"
          ]
        }
      ]
    }
  ]
}